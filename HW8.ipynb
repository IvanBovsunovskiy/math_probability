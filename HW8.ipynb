{
  "nbformat": 4,
  "nbformat_minor": 0,
  "metadata": {
    "colab": {
      "name": "HW8.ipynb",
      "provenance": [],
      "toc_visible": true,
      "authorship_tag": "ABX9TyO3HmisgtanzyrLHZSWkHpJ",
      "include_colab_link": true
    },
    "kernelspec": {
      "name": "python3",
      "display_name": "Python 3"
    },
    "language_info": {
      "name": "python"
    }
  },
  "cells": [
    {
      "cell_type": "markdown",
      "metadata": {
        "id": "view-in-github",
        "colab_type": "text"
      },
      "source": [
        "<a href=\"https://colab.research.google.com/github/IvanBovsunovskiy/math_probability/blob/hw8/HW8.ipynb\" target=\"_parent\"><img src=\"https://colab.research.google.com/assets/colab-badge.svg\" alt=\"Open In Colab\"/></a>"
      ]
    },
    {
      "cell_type": "code",
      "metadata": {
        "id": "KQ1LFNJUaB8Z"
      },
      "source": [
        "import numpy as np\n",
        "from scipy import stats"
      ],
      "execution_count": 2,
      "outputs": []
    },
    {
      "cell_type": "markdown",
      "metadata": {
        "id": "ENfbP1S2aC9A"
      },
      "source": [
        "## __Урок 8. Дисперсионный анализ. Логистическая регрессия__\n",
        "\n",
        "1. Провести дисперсионный анализ для определения того, есть ли различия среднего роста среди взрослых футболистов, хоккеистов и штангистов. Даны значения роста в трех группах случайно выбранных спортсменов: Футболисты: 173, 175, 180, 178, 177, 185, 183, 182. Хоккеисты: 177, 179, 180, 188, 177, 172, 171, 184, 180. Штангисты: 172, 173, 169, 177, 166, 180, 178, 177, 172, 166, 170."
      ]
    },
    {
      "cell_type": "code",
      "metadata": {
        "colab": {
          "base_uri": "https://localhost:8080/"
        },
        "id": "Bhcwpwm5a66g",
        "outputId": "caf16cc2-45ee-4334-caeb-2405dab43b21"
      },
      "source": [
        "soccer_pl = [173, 175, 180, 178, 177, 185, 183, 182]\n",
        "hockey_pl = [177, 179, 180, 188, 177, 172, 171, 184, 180]\n",
        "weihgtlifter = [172, 173, 169, 177, 166, 180, 178, 177, 172, 166, 170]\n",
        "print(f'k2 = {len(soccer_pl) + len(hockey_pl) + len(weihgtlifter) - 3}')"
      ],
      "execution_count": 5,
      "outputs": [
        {
          "output_type": "stream",
          "name": "stdout",
          "text": [
            "k2 = 25\n"
          ]
        }
      ]
    },
    {
      "cell_type": "markdown",
      "metadata": {
        "id": "SXCtp-jUbz1O"
      },
      "source": [
        "Число степеней свободы $k_{1} = 2, ~ k_{2} = 25$\n",
        "Примем уровень значимости $\\alpha = 0,05$, тогда \n",
        "$F_{critical} = 3,385$\n",
        "\n",
        "Для уровеня значимости $\\alpha = 0,01$, тогда \n",
        "$F_{critical} = 5,568$\n",
        "\n",
        "$H_0 -$ различий среднего роста для спортсменов из разных видов спорта нет.\n",
        "$H_1 -$ средний рост для спортсменов из разных видов спорта отличается.\n",
        "\n",
        "The one-way ANOVA tests the null hypothesis that two or more groups have the same population mean. The test is applied to samples from two or more groups, possibly with differing sizes."
      ]
    },
    {
      "cell_type": "code",
      "metadata": {
        "colab": {
          "base_uri": "https://localhost:8080/"
        },
        "id": "1w7rM6QkcsjQ",
        "outputId": "9955b7a7-849a-4a08-d519-94f3709d466b"
      },
      "source": [
        "[F,pval] = stats.f_oneway(soccer_pl,hockey_pl,weihgtlifter)\n",
        "print(f'Femp. = {F}, minimal significals level = {pval}')"
      ],
      "execution_count": 7,
      "outputs": [
        {
          "output_type": "stream",
          "name": "stdout",
          "text": [
            "Femp. = 5.500053450812596, minimal significals level = 0.010482206918698694\n"
          ]
        }
      ]
    },
    {
      "cell_type": "markdown",
      "metadata": {
        "id": "ZGLh1znT0WQ4"
      },
      "source": [
        "Так как значение F больше чем критическое значение F-распределения, для уровня значимости 0,05, то вид спорта влияет на средний рост спортсмена."
      ]
    }
  ]
}