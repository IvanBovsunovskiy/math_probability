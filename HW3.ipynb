{
  "nbformat": 4,
  "nbformat_minor": 0,
  "metadata": {
    "colab": {
      "name": "HW3.ipynb",
      "provenance": [],
      "collapsed_sections": [],
      "authorship_tag": "ABX9TyNMZGG16uFAmVlhJzwxkWcE",
      "include_colab_link": true
    },
    "kernelspec": {
      "name": "python3",
      "display_name": "Python 3"
    },
    "language_info": {
      "name": "python"
    }
  },
  "cells": [
    {
      "cell_type": "markdown",
      "metadata": {
        "id": "view-in-github",
        "colab_type": "text"
      },
      "source": [
        "<a href=\"https://colab.research.google.com/github/IvanBovsunovskiy/math_probability/blob/hw3/HW3.ipynb\" target=\"_parent\"><img src=\"https://colab.research.google.com/assets/colab-badge.svg\" alt=\"Open In Colab\"/></a>"
      ]
    },
    {
      "cell_type": "code",
      "metadata": {
        "id": "qje3Iguu-D9Y"
      },
      "source": [
        "from math import factorial, exp\n",
        "\n",
        "def combinations(n, k):\n",
        "    return int(factorial(n) / (factorial(k) * factorial(n - k)))"
      ],
      "execution_count": 7,
      "outputs": []
    },
    {
      "cell_type": "markdown",
      "metadata": {
        "id": "2O1uLxnj4Prd"
      },
      "source": [
        "##__Урок 3. Описательная статистика. Качественные и количественные характеристики популяции. Графическое представление данных__\n",
        "\n",
        "1. Даны значения зарплат из выборки выпускников: 100, 80, 75, 77, 89, 33, 45, 25, 65, 17, 30, 24, 57, 55, 70, 75, 65, 84, 90, 150. Посчитать (желательно без использования статистических методов наподобие std, var, mean) среднее арифметическое, среднее квадратичное отклонение, смещенную и несмещенную оценки дисперсий для данной выборки.\n",
        "2. В первом ящике находится 8 мячей, из которых 5 - белые. Во втором ящике - 12 мячей, из которых 5 белых. Из первого ящика вытаскивают случайным образом два мяча, из второго - 4. Какова вероятность того, что 3 мяча белые?\n",
        "3. На соревновании по биатлону один из трех спортсменов стреляет и попадает в мишень. Вероятность попадания для первого спортсмена равна 0.9, для второго — 0.8, для третьего — 0.6. Найти вероятность того, что выстрел произведен: a). первым спортсменом б). вторым спортсменом в). третьим спортсменом.\n",
        "4. В университет на факультеты A и B поступило равное количество студентов, а на факультет C студентов поступило столько же, сколько на A и B вместе. Вероятность того, что студент факультета A сдаст первую сессию, равна 0.8. Для студента факультета B эта вероятность равна 0.7, а для студента факультета C - 0.9. Студент сдал первую сессию. Какова вероятность, что он учится: a). на факультете A б). на факультете B в). на факультете C?\n",
        "5. Устройство состоит из трех деталей. Для первой детали вероятность выйти из строя в первый месяц равна 0.1, для второй - 0.2, для третьей - 0.25. Какова вероятность того, что в первый месяц выйдут из строя: а). все детали б). только две детали в). хотя бы одна деталь г). от одной до двух деталей?"
      ]
    },
    {
      "cell_type": "markdown",
      "metadata": {
        "id": "l_3xfAYQ4YgJ"
      },
      "source": [
        "__1. Даны значения зарплат из выборки выпускников: 100, 80, 75, 77, 89, 33, 45, 25, 65, 17, 30, 24, 57, 55, 70, 75, 65, 84, 90, 150. Посчитать (желательно без использования статистических методов наподобие std, var, mean) среднее арифметическое, среднее квадратичное отклонение, смещенную и несмещенную оценки дисперсий для данной выборки.__"
      ]
    },
    {
      "cell_type": "markdown",
      "metadata": {
        "id": "RxO9_5YiX1Lc"
      },
      "source": [
        "Среднее арифметическое по определению: $M(X) = \\frac{1}{n} \\sum\\limits_{i=1}^{n} x_i$, тогда $M(X) = \\frac{1}{20} \\sum\\limits_{i=1}^{20} x_i$, где $x_i$ - 100, 80, 75, 77, 89, 33, 45, 25, 65, 17, 30, 24, 57, 55, 70, 75, 65, 84, 90, 150, т.е. "
      ]
    },
    {
      "cell_type": "code",
      "metadata": {
        "colab": {
          "base_uri": "https://localhost:8080/"
        },
        "id": "ad7uEIc47thP",
        "outputId": "212caac2-3000-42f3-b37b-d7299b942bf4"
      },
      "source": [
        "X = [100,80,75,77,89,33,45,25,65,17,30,24,57,55,70,75,65,84,90,150]\n",
        "M = sum(X)/len(X)\n",
        "M"
      ],
      "execution_count": 2,
      "outputs": [
        {
          "output_type": "execute_result",
          "data": {
            "text/plain": [
              "65.3"
            ]
          },
          "metadata": {
            "tags": []
          },
          "execution_count": 2
        }
      ]
    },
    {
      "cell_type": "markdown",
      "metadata": {
        "id": "0iuZ2pSvD60R"
      },
      "source": [
        "Среднее квадратичное отклонение по определению: $\\sigma = \\sqrt{\\frac{\\sum\\limits_{i=1}^{n} (x_i - \\overline{x})^2}{n}}$, тогда "
      ]
    },
    {
      "cell_type": "code",
      "metadata": {
        "colab": {
          "base_uri": "https://localhost:8080/"
        },
        "id": "LD5xgttaEG_3",
        "outputId": "59d33f90-57d3-41f1-c078-17cb70817b81"
      },
      "source": [
        "sigma = (sum([(x-M)**2 for x in X])/len(X))**0.5\n",
        "sigma"
      ],
      "execution_count": 4,
      "outputs": [
        {
          "output_type": "execute_result",
          "data": {
            "text/plain": [
              "30.823854398825596"
            ]
          },
          "metadata": {
            "tags": []
          },
          "execution_count": 4
        }
      ]
    },
    {
      "cell_type": "markdown",
      "metadata": {
        "id": "H4Ii3-23Eyer"
      },
      "source": [
        "Смещенная оценка дисперсии по определению: $\\sigma^2 = \\frac{\\sum\\limits_{i=1}^{n} (x_i - \\overline{x})^2}{n}$"
      ]
    },
    {
      "cell_type": "code",
      "metadata": {
        "colab": {
          "base_uri": "https://localhost:8080/"
        },
        "id": "6mdGHMWXE6tZ",
        "outputId": "06af43c2-ff89-436d-ab94-4e9c92e61e9e"
      },
      "source": [
        "dispersion = sum([(x-M)**2 for x in X])/len(X)\n",
        "dispersion"
      ],
      "execution_count": 5,
      "outputs": [
        {
          "output_type": "execute_result",
          "data": {
            "text/plain": [
              "950.11"
            ]
          },
          "metadata": {
            "tags": []
          },
          "execution_count": 5
        }
      ]
    },
    {
      "cell_type": "markdown",
      "metadata": {
        "id": "FYlGldehFKCd"
      },
      "source": [
        "Несмещенная дисперсия: $$\\sigma^2_{несмещ.} = \\frac{\\sum\\limits_{i=1}^{n} (x_i - \\overline{x})^2}{n - 1}$$"
      ]
    },
    {
      "cell_type": "code",
      "metadata": {
        "colab": {
          "base_uri": "https://localhost:8080/"
        },
        "id": "oM4o-0itFR32",
        "outputId": "7f572583-4fd5-460e-e0a0-ee94b59d04d9"
      },
      "source": [
        "unbiased_variance = sum([(x-M)**2 for x in X])/(len(X)-1)\n",
        "unbiased_variance"
      ],
      "execution_count": 6,
      "outputs": [
        {
          "output_type": "execute_result",
          "data": {
            "text/plain": [
              "1000.1157894736842"
            ]
          },
          "metadata": {
            "tags": []
          },
          "execution_count": 6
        }
      ]
    },
    {
      "cell_type": "markdown",
      "metadata": {
        "id": "_PS4qcdBX9zl"
      },
      "source": [
        "__2. В первом ящике находится 8 мячей, из которых 5 - белые. Во втором ящике - 12 мячей, из которых 5 белых. Из первого ящика вытаскивают случайным образом два мяча, из второго - 4. Какова вероятность того, что 3 мяча белые?__"
      ]
    },
    {
      "cell_type": "markdown",
      "metadata": {
        "id": "xuF4HCUVZA9D"
      },
      "source": [
        "Три белых мяча можно вытащить 3 способами: 2 из первого ящика и 1 из второго(+3 черных), 1 из первого ящика(+1 черный) и 2 из второго(+2 черных), и 0(2 черных) из первого и 3 из второго(+1 черный). Тогда результирующая вероятность: $$P =  \\frac{C^{2}_{5}}{C^{2}_{8}} \\cdot \\frac{C^{1}_{5}\\cdot C^{3}_{7}}{C^{4}_{12}} + \\frac{C^{1}_{5}\\cdot C^{1}_{3}}{C^{2}_{8}} \\cdot \\frac{C^{2}_{5}\\cdot C^{2}_{7}}{C^{4}_{12}} + \\frac{C^{2}_{3}}{C^{2}_{8}} \\cdot \\frac{C^{3}_{5}\\cdot C^{1}_{7}}{C^{2}_{12}}$$"
      ]
    },
    {
      "cell_type": "code",
      "metadata": {
        "colab": {
          "base_uri": "https://localhost:8080/"
        },
        "id": "HAHu2qCXGOP5",
        "outputId": "d6aa33ce-189c-4065-c057-039169347726"
      },
      "source": [
        "P = combinations(5,2)/combinations(8,2) * combinations(5,1)*combinations(7,3)/combinations(12,4) + combinations(5,1)*combinations(3,1)/combinations(8,2) * combinations(5,2)*combinations(7,2)/combinations(12,4) + combinations(3,2)/combinations(8,2) * combinations(5,3)*combinations(7,1)/combinations(12,4) \n",
        "P"
      ],
      "execution_count": 8,
      "outputs": [
        {
          "output_type": "execute_result",
          "data": {
            "text/plain": [
              "0.3686868686868686"
            ]
          },
          "metadata": {
            "tags": []
          },
          "execution_count": 8
        }
      ]
    },
    {
      "cell_type": "markdown",
      "metadata": {
        "id": "rHWWL0akgGOI"
      },
      "source": [
        "__3. На соревновании по биатлону один из трех спортсменов стреляет и попадает в мишень. Вероятность попадания для первого спортсмена равна 0.9, для второго — 0.8, для третьего — 0.6. Найти вероятность того, что выстрел произведен: a). первым спортсменом б). вторым спортсменом в). третьим спортсменом.__"
      ]
    },
    {
      "cell_type": "markdown",
      "metadata": {
        "id": "ztn9jC-Ega-2"
      },
      "source": [
        "а) Так как есть вероятность что стрелял первый спортсмен:\n",
        "$$P =  \\frac{C^{1}_{1}}{C^{1}_{3}} $$ и вероятность его попадания $P = 0.9$, то вероятность того что стрелял первый спортсмен будет:"
      ]
    },
    {
      "cell_type": "code",
      "metadata": {
        "colab": {
          "base_uri": "https://localhost:8080/"
        },
        "id": "8vgkzfDGgLm5",
        "outputId": "bc89100e-2249-4de1-e7da-f00fee454a67"
      },
      "source": [
        "P = combinations(1,1)/combinations(3,1)*0.9\n",
        "P"
      ],
      "execution_count": 9,
      "outputs": [
        {
          "output_type": "execute_result",
          "data": {
            "text/plain": [
              "0.3"
            ]
          },
          "metadata": {
            "tags": []
          },
          "execution_count": 9
        }
      ]
    },
    {
      "cell_type": "markdown",
      "metadata": {
        "id": "V8i8GWJLMzEJ"
      },
      "source": [
        "б) Аналогично первому случаю, вероятность что стрелял второй спортсмен"
      ]
    },
    {
      "cell_type": "code",
      "metadata": {
        "colab": {
          "base_uri": "https://localhost:8080/"
        },
        "id": "uGW1y_S3M4X3",
        "outputId": "7d20894a-3933-49dc-a4b9-f118f9dc1cdb"
      },
      "source": [
        "P = combinations(1,1)/combinations(3,1)*0.8\n",
        "P"
      ],
      "execution_count": 10,
      "outputs": [
        {
          "output_type": "execute_result",
          "data": {
            "text/plain": [
              "0.26666666666666666"
            ]
          },
          "metadata": {
            "tags": []
          },
          "execution_count": 10
        }
      ]
    },
    {
      "cell_type": "markdown",
      "metadata": {
        "id": "-TedEPmAM66b"
      },
      "source": [
        "в) Аналогично первому случаю, вероятность что стрелял третий спортсмен"
      ]
    },
    {
      "cell_type": "code",
      "metadata": {
        "colab": {
          "base_uri": "https://localhost:8080/"
        },
        "id": "nswjOPDqNIx-",
        "outputId": "9c7eff43-2d59-456f-9d44-74c0dda770ad"
      },
      "source": [
        "P = combinations(1,1)/combinations(3,1)*0.6\n",
        "P"
      ],
      "execution_count": 11,
      "outputs": [
        {
          "output_type": "execute_result",
          "data": {
            "text/plain": [
              "0.19999999999999998"
            ]
          },
          "metadata": {
            "tags": []
          },
          "execution_count": 11
        }
      ]
    },
    {
      "cell_type": "markdown",
      "metadata": {
        "id": "SneZvgxAgJFw"
      },
      "source": [
        "__4. В университет на факультеты A и B поступило равное количество студентов, а на факультет C студентов поступило столько же, сколько на A и B вместе. Вероятность того, что студент факультета A сдаст первую сессию, равна 0.8. Для студента факультета B эта вероятность равна 0.7, а для студента факультета C - 0.9. Студент сдал первую сессию. Какова вероятность, что он учится: a). на факультете A б). на факультете B в). на факультете C?__"
      ]
    },
    {
      "cell_type": "markdown",
      "metadata": {
        "id": "LpL5nZ22l6gS"
      },
      "source": [
        "а) Пусть количество студентов на факультете А - х. Тогда на факультете В - х, а на С - 2х студентов. Вероятность того что студент сдавший первую сессию учится на факультете А будет :\n",
        "$$P =  \\frac{C^{1}_{х}}{C^{1}_{4х}} \\cdot 0.8 = \\frac{х}{4х} \\cdot 0.8 = 0.2$$"
      ]
    },
    {
      "cell_type": "markdown",
      "metadata": {
        "id": "4fp4V5B_PKe_"
      },
      "source": [
        "б) Пусть количество студентов на факультете А - х. Тогда на факультете В - х, а на С - 2х студентов. Вероятность того что студент сдавший первую сессию учится на факультете В будет :\n",
        "$$P =  \\frac{C^{1}_{х}}{C^{1}_{4х}} \\cdot 0.7 = \\frac{х}{4х} \\cdot 0.7 = 0.175$$"
      ]
    },
    {
      "cell_type": "markdown",
      "metadata": {
        "id": "02kqYrsUPkZz"
      },
      "source": [
        "в) Пусть количество студентов на факультете А - х. Тогда на факультете В - х, а на С - 2х студентов. Вероятность того что студент сдавший первую сессию учится на факультете С будет :\n",
        "$$P =  \\frac{C^{1}_{2х}}{C^{1}_{4х}} \\cdot 0.7 = \\frac{2х}{4х} \\cdot 0.9 = 0.45$$"
      ]
    },
    {
      "cell_type": "markdown",
      "metadata": {
        "id": "xMlq-FP7QCau"
      },
      "source": [
        "__5. Устройство состоит из трех деталей. Для первой детали вероятность выйти из строя в первый месяц равна 0.1, для второй - 0.2, для третьей - 0.25. Какова вероятность того, что в первый месяц выйдут из строя: а). все детали б). только две детали в). хотя бы одна деталь г). от одной до двух деталей?__"
      ]
    },
    {
      "cell_type": "markdown",
      "metadata": {
        "id": "bwJstiIuQHtj"
      },
      "source": [
        "а) Вероятность выхода из строя всех 3 деталей: $$P =  0.1 \\cdot 0.2 \\cdot 0.25 = 0.005$$"
      ]
    },
    {
      "cell_type": "markdown",
      "metadata": {
        "id": "BZvLCjYlQlY7"
      },
      "source": [
        "б) Вероятность выхода из строя 2 деталей: $$P =  0.1 \\cdot 0.2 \\cdot (1-0.25) +  0.1 \\cdot (1-0.2) \\cdot 0.25 + (1-0.1) \\cdot 0.2 \\cdot 0.25= 0.08$$"
      ]
    },
    {
      "cell_type": "code",
      "metadata": {
        "colab": {
          "base_uri": "https://localhost:8080/"
        },
        "id": "fFqZFO-_Q3dW",
        "outputId": "fd7c8abd-133d-45ff-b69f-ce8eedc0e749"
      },
      "source": [
        "P = 0.1*0.2*(1-0.25) + 0.1*(1-0.2)*0.25 + (1-0.1)*0.2*0.25\n",
        "P"
      ],
      "execution_count": 12,
      "outputs": [
        {
          "output_type": "execute_result",
          "data": {
            "text/plain": [
              "0.08000000000000002"
            ]
          },
          "metadata": {
            "tags": []
          },
          "execution_count": 12
        }
      ]
    },
    {
      "cell_type": "markdown",
      "metadata": {
        "id": "Y02Vnj9aRKQB"
      },
      "source": [
        "в) Вероятность выхода из строя хотя бы 1 детали соответствует 1 минус вероятность не выхода из строя ниодной детали: $$P =  1 - (1-0.1) \\cdot (1-0.2) \\cdot (1-0.25) = 0.46$$"
      ]
    },
    {
      "cell_type": "markdown",
      "metadata": {
        "id": "QBaYMII9SRUn"
      },
      "source": [
        "г) Вероятность выхода из строя от 1 до 2 деталей соответствует разности 1 и  вероятностей выхода из строя 3 деталей и вероятности не выхода из строя ниодной детали: $$P =  1 - 0.1 \\cdot 0.2 \\cdot 0.25 - (1-0.1) \\cdot (1-0.2) \\cdot (1-0.25) = 1 - 0.005 - 0.54 = 0.455$$"
      ]
    }
  ]
}