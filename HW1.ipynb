{
  "nbformat": 4,
  "nbformat_minor": 0,
  "metadata": {
    "colab": {
      "name": "HW1.ipynb",
      "provenance": [],
      "authorship_tag": "ABX9TyMVdW7ldqbRhGfFHhNSXFfN",
      "include_colab_link": true
    },
    "kernelspec": {
      "name": "python3",
      "display_name": "Python 3"
    },
    "language_info": {
      "name": "python"
    }
  },
  "cells": [
    {
      "cell_type": "markdown",
      "metadata": {
        "id": "view-in-github",
        "colab_type": "text"
      },
      "source": [
        "<a href=\"https://colab.research.google.com/github/IvanBovsunovskiy/math_probability/blob/hw1/HW1.ipynb\" target=\"_parent\"><img src=\"https://colab.research.google.com/assets/colab-badge.svg\" alt=\"Open In Colab\"/></a>"
      ]
    },
    {
      "cell_type": "code",
      "metadata": {
        "id": "qje3Iguu-D9Y"
      },
      "source": [
        "from math import factorial\n",
        "\n",
        "def combinations(n, k):\n",
        "    return int(factorial(n) / (factorial(k) * factorial(n - k)))"
      ],
      "execution_count": 2,
      "outputs": []
    },
    {
      "cell_type": "markdown",
      "metadata": {
        "id": "2O1uLxnj4Prd"
      },
      "source": [
        "##__Урок 1. Случайные события. Условная вероятность. Формула Байеса. Независимые испытания__\n",
        "\n",
        "ДЗ сдаем ссылкой на githab\n",
        "\n",
        "1. Из колоды в 52 карты извлекаются случайным образом 4 карты. a) Найти вероятность того, что все карты – крести. б) Найти вероятность, что среди 4-х карт окажется хотя бы один туз.\n",
        "2. На входной двери подъезда установлен кодовый замок, содержащий десять кнопок с цифрами от 0 до 9. Код содержит три цифры, которые нужно нажать одновременно. Какова вероятность того, что человек, не знающий код, откроет дверь с первой попытки?\n",
        "3. В ящике имеется 15 деталей, из которых 9 окрашены. Рабочий случайным образом извлекает 3 детали. Какова вероятность того, что все извлеченные детали окрашены?\n",
        "4. В лотерее 100 билетов. Из них 2 выигрышных. Какова вероятность того, что 2 приобретенных билета окажутся выигрышными?"
      ]
    },
    {
      "cell_type": "markdown",
      "metadata": {
        "id": "l_3xfAYQ4YgJ"
      },
      "source": [
        "__1.  Из колоды в 52 карты извлекаются случайным образом 4 карты.__\n",
        "\n",
        "a) Найти вероятность того, что все карты – крести. \n",
        "б) Найти вероятность, что среди 4-х карт окажется хотя бы один туз."
      ]
    },
    {
      "cell_type": "markdown",
      "metadata": {
        "id": "RxO9_5YiX1Lc"
      },
      "source": [
        "a) Так как в колоде всего 4 масти и не важно какие карты по номиналу, то вероятность того что все 4 карты крести: $P(4K) = P(1K)\\cdot P(2K|1K)\\cdot P(3K|2K)\\cdot P(4K|3K)$"
      ]
    },
    {
      "cell_type": "code",
      "metadata": {
        "colab": {
          "base_uri": "https://localhost:8080/"
        },
        "id": "ad7uEIc47thP",
        "outputId": "f15f4f26-cd67-4649-a3e1-70eae9788818"
      },
      "source": [
        "P = 13/52*12/51*11/50*10/49\n",
        "P"
      ],
      "execution_count": 1,
      "outputs": [
        {
          "output_type": "execute_result",
          "data": {
            "text/plain": [
              "0.0026410564225690276"
            ]
          },
          "metadata": {
            "tags": []
          },
          "execution_count": 1
        }
      ]
    },
    {
      "cell_type": "markdown",
      "metadata": {
        "id": "oKkKw5CtYgrZ"
      },
      "source": [
        "или через сочетания"
      ]
    },
    {
      "cell_type": "code",
      "metadata": {
        "colab": {
          "base_uri": "https://localhost:8080/"
        },
        "id": "3UXMSL5QYd5p",
        "outputId": "9e39e1ac-542c-4ad3-b786-03ca06332023"
      },
      "source": [
        "P = combinations(13,4)/combinations(52,4)\n",
        "print(P)"
      ],
      "execution_count": 11,
      "outputs": [
        {
          "output_type": "stream",
          "text": [
            "0.0026410564225690276\n"
          ],
          "name": "stdout"
        }
      ]
    },
    {
      "cell_type": "markdown",
      "metadata": {
        "id": "8l1MdBxf8Pnq"
      },
      "source": [
        "б)Так как масти карт значения не имеют, то как минимум 1 туз из 4 карт - это сумма сочетаний 1, 2, 3, 4 тузов в 4 картах к сочетанию 4 любых карт из колоды."
      ]
    },
    {
      "cell_type": "markdown",
      "metadata": {
        "id": "9FDTqjvW9kMN"
      },
      "source": [
        "Число сочетаний в случае 1 туза из 4:"
      ]
    },
    {
      "cell_type": "code",
      "metadata": {
        "colab": {
          "base_uri": "https://localhost:8080/"
        },
        "id": "54N17AqM9v8l",
        "outputId": "08dc48be-1c4b-4a30-f719-3a6371f556cd"
      },
      "source": [
        "С1 = combinations(4,1)*combinations(48,3)\n",
        "print(С1)"
      ],
      "execution_count": 3,
      "outputs": [
        {
          "output_type": "stream",
          "text": [
            "69184\n"
          ],
          "name": "stdout"
        }
      ]
    },
    {
      "cell_type": "markdown",
      "metadata": {
        "id": "bCw3fFLw_fGw"
      },
      "source": [
        "Число сочетаний в случае 2 тузов в наборе:"
      ]
    },
    {
      "cell_type": "code",
      "metadata": {
        "colab": {
          "base_uri": "https://localhost:8080/"
        },
        "id": "h-H3M3uW_fGx",
        "outputId": "35e5f162-00fa-47dd-c4be-67a7c3940fc8"
      },
      "source": [
        "С2 = combinations(4,2)*combinations(48,2)\n",
        "print(С2)"
      ],
      "execution_count": 4,
      "outputs": [
        {
          "output_type": "stream",
          "text": [
            "6768\n"
          ],
          "name": "stdout"
        }
      ]
    },
    {
      "cell_type": "markdown",
      "metadata": {
        "id": "WwhkXw7j_UUg"
      },
      "source": [
        "Число сочетаний в случае 3 тузов в наборе:"
      ]
    },
    {
      "cell_type": "code",
      "metadata": {
        "colab": {
          "base_uri": "https://localhost:8080/"
        },
        "id": "l08CPTFa_aNe",
        "outputId": "4bbd72e7-1e0d-4926-e475-277fe0d482c4"
      },
      "source": [
        "С3 = combinations(4,3)*combinations(48,1)\n",
        "print(С3)"
      ],
      "execution_count": 5,
      "outputs": [
        {
          "output_type": "stream",
          "text": [
            "192\n"
          ],
          "name": "stdout"
        }
      ]
    },
    {
      "cell_type": "markdown",
      "metadata": {
        "id": "u9w4pW4J_vh_"
      },
      "source": [
        "Число сочетаний в случае 4 тузов в наборе:"
      ]
    },
    {
      "cell_type": "code",
      "metadata": {
        "colab": {
          "base_uri": "https://localhost:8080/"
        },
        "id": "WcpW15JG_yBc",
        "outputId": "db110915-5db1-4e8e-d492-798f52a7c036"
      },
      "source": [
        "С4 = combinations(4,4)*combinations(48,0)\n",
        "print(С4)"
      ],
      "execution_count": 6,
      "outputs": [
        {
          "output_type": "stream",
          "text": [
            "1\n"
          ],
          "name": "stdout"
        }
      ]
    },
    {
      "cell_type": "markdown",
      "metadata": {
        "id": "TL2vjSqYWtyw"
      },
      "source": [
        "Тогда вероятность того что из 4 карт как минимум 1 туз(число комбинаций 1, 2, 3, 4 тузов в выборке деленное на число комбинаций для выборки 4 карт из колоды):"
      ]
    },
    {
      "cell_type": "code",
      "metadata": {
        "colab": {
          "base_uri": "https://localhost:8080/"
        },
        "id": "c-A68MkRW18_",
        "outputId": "94a94507-e032-4bbe-a29b-71a5edd2a5c8"
      },
      "source": [
        "P = (С1+С2+С3+С4)/combinations(52,4)\n",
        "P"
      ],
      "execution_count": 8,
      "outputs": [
        {
          "output_type": "execute_result",
          "data": {
            "text/plain": [
              "0.2812632745405855"
            ]
          },
          "metadata": {
            "tags": []
          },
          "execution_count": 8
        }
      ]
    },
    {
      "cell_type": "markdown",
      "metadata": {
        "id": "_PS4qcdBX9zl"
      },
      "source": [
        "__2. На входной двери подъезда установлен кодовый замок, содержащий десять кнопок с цифрами от 0 до 9. Код содержит три цифры, которые нужно нажать одновременно. Какова вероятность того, что человек, не знающий код, откроет дверь с первой попытки?__"
      ]
    },
    {
      "cell_type": "markdown",
      "metadata": {
        "id": "xuF4HCUVZA9D"
      },
      "source": [
        "так как нажатие кнопок одновременное, то события нажатия кнопок зависимы и вероятность угадать все 3 кнопки будет равна произведению вероятностей угадать 1 кнопку 3 к 10, вторую кнопку 2 к 9 и 3 кнопку 1 к 8"
      ]
    },
    {
      "cell_type": "code",
      "metadata": {
        "colab": {
          "base_uri": "https://localhost:8080/"
        },
        "id": "pbLWPQ0wYAwU",
        "outputId": "e1b59f70-14c6-46ba-9c26-3d8ab1ffd5b1"
      },
      "source": [
        "P = combinations(3,3)/combinations(10,3)\n",
        "P"
      ],
      "execution_count": 33,
      "outputs": [
        {
          "output_type": "execute_result",
          "data": {
            "text/plain": [
              "0.008333333333333333"
            ]
          },
          "metadata": {
            "tags": []
          },
          "execution_count": 33
        }
      ]
    },
    {
      "cell_type": "code",
      "metadata": {
        "colab": {
          "base_uri": "https://localhost:8080/"
        },
        "id": "iQzALGHumd85",
        "outputId": "91d74023-1c9d-43e7-f503-356ea11778db"
      },
      "source": [
        "3/10*2/9*1/8"
      ],
      "execution_count": 34,
      "outputs": [
        {
          "output_type": "execute_result",
          "data": {
            "text/plain": [
              "0.008333333333333333"
            ]
          },
          "metadata": {
            "tags": []
          },
          "execution_count": 34
        }
      ]
    },
    {
      "cell_type": "markdown",
      "metadata": {
        "id": "rHWWL0akgGOI"
      },
      "source": [
        "__3. В ящике имеется 15 деталей, из которых 9 окрашены. Рабочий случайным образом извлекает 3 детали. Какова вероятность того, что все извлеченные детали окрашены?__"
      ]
    },
    {
      "cell_type": "markdown",
      "metadata": {
        "id": "ztn9jC-Ega-2"
      },
      "source": [
        "Вероятность выбора 3 окрашенных деталей будет равна отношению количеству комбинация 3 окрашенных деталей из 9 окращенных к количетву всевозможных комбинаций 3 деталей из 15."
      ]
    },
    {
      "cell_type": "code",
      "metadata": {
        "colab": {
          "base_uri": "https://localhost:8080/"
        },
        "id": "8vgkzfDGgLm5",
        "outputId": "1261f4b8-3273-489e-8979-682283e013ca"
      },
      "source": [
        "P=combinations(9,3)/combinations(15,3)\n",
        "P"
      ],
      "execution_count": 21,
      "outputs": [
        {
          "output_type": "execute_result",
          "data": {
            "text/plain": [
              "0.18461538461538463"
            ]
          },
          "metadata": {
            "tags": []
          },
          "execution_count": 21
        }
      ]
    },
    {
      "cell_type": "markdown",
      "metadata": {
        "id": "SneZvgxAgJFw"
      },
      "source": [
        "__4. В лотерее 100 билетов. Из них 2 выигрышных. Какова вероятность того, что 2 приобретенных билета окажутся выигрышными?__"
      ]
    },
    {
      "cell_type": "markdown",
      "metadata": {
        "id": "LpL5nZ22l6gS"
      },
      "source": [
        "Вероятность выбора 2 выигрышных билетов из 100 будет равна отношению количества комбинаций 2 из 2х к полному количеству комбинаций выбрать 2 билета из 100, т.е. вероятность выбрать первый билет 2 к 100 умножить на вероятность выбрать второй билет 1 к 99"
      ]
    },
    {
      "cell_type": "code",
      "metadata": {
        "colab": {
          "base_uri": "https://localhost:8080/"
        },
        "id": "UxXGvfR7krjX",
        "outputId": "dcf0ea23-3049-4cf6-b2d5-60b10734d886"
      },
      "source": [
        "P=combinations(2,2)/combinations(100,2)\n",
        "P"
      ],
      "execution_count": 22,
      "outputs": [
        {
          "output_type": "execute_result",
          "data": {
            "text/plain": [
              "0.00020202020202020202"
            ]
          },
          "metadata": {
            "tags": []
          },
          "execution_count": 22
        }
      ]
    },
    {
      "cell_type": "code",
      "metadata": {
        "colab": {
          "base_uri": "https://localhost:8080/"
        },
        "id": "WpM087a0kvyI",
        "outputId": "57fe73f4-daf5-4ca3-b0aa-d44b0dc80fdc"
      },
      "source": [
        "2/100*1/99"
      ],
      "execution_count": 24,
      "outputs": [
        {
          "output_type": "execute_result",
          "data": {
            "text/plain": [
              "0.00020202020202020202"
            ]
          },
          "metadata": {
            "tags": []
          },
          "execution_count": 24
        }
      ]
    }
  ]
}